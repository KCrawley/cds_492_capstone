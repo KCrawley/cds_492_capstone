{
 "cells": [
  {
   "cell_type": "markdown",
   "id": "d3c1b08e-5159-416d-91f3-31271b16e05d",
   "metadata": {},
   "source": [
    "# Project Prototype 1"
   ]
  },
  {
   "cell_type": "code",
   "execution_count": 1,
   "id": "52d62505-9611-49ab-a46e-369be841fbec",
   "metadata": {},
   "outputs": [],
   "source": [
    "# Package importing\n",
    "import numpy as np\n",
    "import pandas as pd\n",
    "from sklearn import preprocessing\n",
    "\n",
    "import tensorflow as tf"
   ]
  },
  {
   "cell_type": "markdown",
   "id": "3f5ef284-e61d-42ae-b7ba-95a25f86128d",
   "metadata": {},
   "source": [
    "In order to create a neural network using this data, first we have to do a bit more cleaning. The most obvious of which is to encode the categorical data present. In this case the columns that contain categorical data are Type, Category, Content Rating, Genres, and Android Ver. We also want to remove 3 columns from the dataset that are irrelevant to our model. The first is the App column, which only contains the names of the apps. The less obvious one to remove is the Current Ver column, which contains data regarding the current version of every app, which functionally acts as a second name for each app, since apps are likely to use different syntaxes when talking about their versions. Finally, Last Updated needs to be removed since TensorFlow cannot use datetime data."
   ]
  },
  {
   "cell_type": "code",
   "execution_count": 2,
   "id": "24da366c-f6ca-42e5-9f50-d56263d9c566",
   "metadata": {},
   "outputs": [
    {
     "data": {
      "text/html": [
       "<div>\n",
       "<style scoped>\n",
       "    .dataframe tbody tr th:only-of-type {\n",
       "        vertical-align: middle;\n",
       "    }\n",
       "\n",
       "    .dataframe tbody tr th {\n",
       "        vertical-align: top;\n",
       "    }\n",
       "\n",
       "    .dataframe thead th {\n",
       "        text-align: right;\n",
       "    }\n",
       "</style>\n",
       "<table border=\"1\" class=\"dataframe\">\n",
       "  <thead>\n",
       "    <tr style=\"text-align: right;\">\n",
       "      <th></th>\n",
       "      <th>Category</th>\n",
       "      <th>Rating</th>\n",
       "      <th>Reviews</th>\n",
       "      <th>Size</th>\n",
       "      <th>Installs</th>\n",
       "      <th>Type</th>\n",
       "      <th>Price</th>\n",
       "      <th>Content Rating</th>\n",
       "      <th>Genres</th>\n",
       "      <th>Android Ver</th>\n",
       "    </tr>\n",
       "  </thead>\n",
       "  <tbody>\n",
       "    <tr>\n",
       "      <th>0</th>\n",
       "      <td>0</td>\n",
       "      <td>4.1</td>\n",
       "      <td>159</td>\n",
       "      <td>19.0</td>\n",
       "      <td>10000</td>\n",
       "      <td>0</td>\n",
       "      <td>0.0</td>\n",
       "      <td>1</td>\n",
       "      <td>9</td>\n",
       "      <td>14</td>\n",
       "    </tr>\n",
       "    <tr>\n",
       "      <th>1</th>\n",
       "      <td>0</td>\n",
       "      <td>3.9</td>\n",
       "      <td>967</td>\n",
       "      <td>14.0</td>\n",
       "      <td>500000</td>\n",
       "      <td>0</td>\n",
       "      <td>0.0</td>\n",
       "      <td>1</td>\n",
       "      <td>11</td>\n",
       "      <td>14</td>\n",
       "    </tr>\n",
       "    <tr>\n",
       "      <th>2</th>\n",
       "      <td>0</td>\n",
       "      <td>4.7</td>\n",
       "      <td>87510</td>\n",
       "      <td>8.7</td>\n",
       "      <td>5000000</td>\n",
       "      <td>0</td>\n",
       "      <td>0.0</td>\n",
       "      <td>1</td>\n",
       "      <td>9</td>\n",
       "      <td>14</td>\n",
       "    </tr>\n",
       "    <tr>\n",
       "      <th>3</th>\n",
       "      <td>0</td>\n",
       "      <td>4.5</td>\n",
       "      <td>215644</td>\n",
       "      <td>25.0</td>\n",
       "      <td>50000000</td>\n",
       "      <td>0</td>\n",
       "      <td>0.0</td>\n",
       "      <td>4</td>\n",
       "      <td>9</td>\n",
       "      <td>17</td>\n",
       "    </tr>\n",
       "    <tr>\n",
       "      <th>4</th>\n",
       "      <td>0</td>\n",
       "      <td>4.3</td>\n",
       "      <td>967</td>\n",
       "      <td>2.8</td>\n",
       "      <td>100000</td>\n",
       "      <td>0</td>\n",
       "      <td>0.0</td>\n",
       "      <td>1</td>\n",
       "      <td>10</td>\n",
       "      <td>19</td>\n",
       "    </tr>\n",
       "    <tr>\n",
       "      <th>5</th>\n",
       "      <td>0</td>\n",
       "      <td>4.4</td>\n",
       "      <td>167</td>\n",
       "      <td>5.6</td>\n",
       "      <td>50000</td>\n",
       "      <td>0</td>\n",
       "      <td>0.0</td>\n",
       "      <td>1</td>\n",
       "      <td>9</td>\n",
       "      <td>7</td>\n",
       "    </tr>\n",
       "    <tr>\n",
       "      <th>6</th>\n",
       "      <td>0</td>\n",
       "      <td>3.8</td>\n",
       "      <td>178</td>\n",
       "      <td>19.0</td>\n",
       "      <td>50000</td>\n",
       "      <td>0</td>\n",
       "      <td>0.0</td>\n",
       "      <td>1</td>\n",
       "      <td>9</td>\n",
       "      <td>14</td>\n",
       "    </tr>\n",
       "    <tr>\n",
       "      <th>7</th>\n",
       "      <td>0</td>\n",
       "      <td>4.1</td>\n",
       "      <td>36815</td>\n",
       "      <td>29.0</td>\n",
       "      <td>1000000</td>\n",
       "      <td>0</td>\n",
       "      <td>0.0</td>\n",
       "      <td>1</td>\n",
       "      <td>9</td>\n",
       "      <td>17</td>\n",
       "    </tr>\n",
       "    <tr>\n",
       "      <th>8</th>\n",
       "      <td>0</td>\n",
       "      <td>4.4</td>\n",
       "      <td>13791</td>\n",
       "      <td>33.0</td>\n",
       "      <td>1000000</td>\n",
       "      <td>0</td>\n",
       "      <td>0.0</td>\n",
       "      <td>1</td>\n",
       "      <td>9</td>\n",
       "      <td>9</td>\n",
       "    </tr>\n",
       "    <tr>\n",
       "      <th>9</th>\n",
       "      <td>0</td>\n",
       "      <td>4.7</td>\n",
       "      <td>121</td>\n",
       "      <td>3.1</td>\n",
       "      <td>10000</td>\n",
       "      <td>0</td>\n",
       "      <td>0.0</td>\n",
       "      <td>1</td>\n",
       "      <td>10</td>\n",
       "      <td>14</td>\n",
       "    </tr>\n",
       "  </tbody>\n",
       "</table>\n",
       "</div>"
      ],
      "text/plain": [
       "   Category  Rating  Reviews  Size  Installs  Type  Price  Content Rating  \\\n",
       "0         0     4.1      159  19.0     10000     0    0.0               1   \n",
       "1         0     3.9      967  14.0    500000     0    0.0               1   \n",
       "2         0     4.7    87510   8.7   5000000     0    0.0               1   \n",
       "3         0     4.5   215644  25.0  50000000     0    0.0               4   \n",
       "4         0     4.3      967   2.8    100000     0    0.0               1   \n",
       "5         0     4.4      167   5.6     50000     0    0.0               1   \n",
       "6         0     3.8      178  19.0     50000     0    0.0               1   \n",
       "7         0     4.1    36815  29.0   1000000     0    0.0               1   \n",
       "8         0     4.4    13791  33.0   1000000     0    0.0               1   \n",
       "9         0     4.7      121   3.1     10000     0    0.0               1   \n",
       "\n",
       "   Genres  Android Ver  \n",
       "0       9           14  \n",
       "1      11           14  \n",
       "2       9           14  \n",
       "3       9           17  \n",
       "4      10           19  \n",
       "5       9            7  \n",
       "6       9           14  \n",
       "7       9           17  \n",
       "8       9            9  \n",
       "9      10           14  "
      ]
     },
     "execution_count": 2,
     "metadata": {},
     "output_type": "execute_result"
    }
   ],
   "source": [
    "# Preparing data\n",
    "df = pd.read_csv('googlePS_cleaned.csv')\n",
    "\n",
    "# Integer encoding categorical variables\n",
    "label = preprocessing.LabelEncoder()\n",
    "\n",
    "df['Type'] = label.fit_transform(df['Type'])\n",
    "df['Category'] = label.fit_transform(df['Category'])\n",
    "df['Content Rating'] = label.fit_transform(df['Content Rating'])\n",
    "df['Genres'] = label.fit_transform(df['Genres'])\n",
    "df['Android Ver'] = label.fit_transform(df['Android Ver'])\n",
    "\n",
    "# Removing irrelevant columns\n",
    "df = df.drop(columns = ['App', 'Current Ver', 'Last Updated'])\n",
    "\n",
    "df.head(10)"
   ]
  },
  {
   "cell_type": "markdown",
   "id": "d761b2ce-edd9-4129-82b6-096aedc3ce5b",
   "metadata": {},
   "source": [
    "### Neural Network"
   ]
  },
  {
   "cell_type": "code",
   "execution_count": 17,
   "id": "ca0490b0-37a3-4534-8186-53dd32962982",
   "metadata": {},
   "outputs": [],
   "source": [
    "# Making training and test data with 80:20 split\n",
    "seed = 562764589\n",
    "\n",
    "df_train = df.sample(frac = 0.8, replace = False, random_state = seed)\n",
    "train_target = df_train.pop('Rating')\n",
    "df_test = df.drop(df_train.index)\n",
    "test_target = df_test.pop('Rating')"
   ]
  },
  {
   "cell_type": "code",
   "execution_count": 70,
   "id": "5dcbca39-a6fa-4485-9192-c48f5532b987",
   "metadata": {},
   "outputs": [],
   "source": [
    "# Defining our model\n",
    "model = tf.keras.Sequential([\n",
    "    tf.keras.layers.Dense(9, input_dim = 9, activation = 'relu'),\n",
    "    tf.keras.layers.Dense(81, activation = 'relu'),\n",
    "    tf.keras.layers.Dense(81, activation = 'relu'),\n",
    "    tf.keras.layers.Dense(9, activation = 'softmax')\n",
    "])"
   ]
  },
  {
   "cell_type": "code",
   "execution_count": 71,
   "id": "0884cbfc-464a-44c6-96ed-105b163f3692",
   "metadata": {},
   "outputs": [],
   "source": [
    "# Compiling the model\n",
    "model.compile(optimizer='adam',\n",
    "              loss='sparse_categorical_crossentropy',\n",
    "              metrics=['accuracy'])"
   ]
  },
  {
   "cell_type": "code",
   "execution_count": 72,
   "id": "f8d27576-b019-4be4-89e3-f041a6d0e7e6",
   "metadata": {},
   "outputs": [
    {
     "name": "stdout",
     "output_type": "stream",
     "text": [
      "Epoch 1/15\n",
      "194/194 [==============================] - 1s 1ms/step - loss: 43046.6289 - accuracy: 0.0711\n",
      "Epoch 2/15\n",
      "194/194 [==============================] - 0s 1ms/step - loss: 46355.9297 - accuracy: 0.0660\n",
      "Epoch 3/15\n",
      "194/194 [==============================] - 0s 1ms/step - loss: 57685.5508 - accuracy: 0.0709\n",
      "Epoch 4/15\n",
      "194/194 [==============================] - 0s 981us/step - loss: 57456.2383 - accuracy: 0.0660\n",
      "Epoch 5/15\n",
      "194/194 [==============================] - 0s 1ms/step - loss: 21565.0273 - accuracy: 0.0636\n",
      "Epoch 6/15\n",
      "194/194 [==============================] - 0s 1ms/step - loss: 34240.1406 - accuracy: 0.0685\n",
      "Epoch 7/15\n",
      "194/194 [==============================] - 0s 1ms/step - loss: 16152.3809 - accuracy: 0.0680\n",
      "Epoch 8/15\n",
      "194/194 [==============================] - 0s 1ms/step - loss: 32373.5781 - accuracy: 0.0599\n",
      "Epoch 9/15\n",
      "194/194 [==============================] - 0s 1ms/step - loss: 19359.6719 - accuracy: 0.0602\n",
      "Epoch 10/15\n",
      "194/194 [==============================] - 0s 1ms/step - loss: 4907.7969 - accuracy: 0.0672\n",
      "Epoch 11/15\n",
      "194/194 [==============================] - 0s 1ms/step - loss: 11947.0957 - accuracy: 0.0623\n",
      "Epoch 12/15\n",
      "194/194 [==============================] - 0s 1ms/step - loss: 19912.2520 - accuracy: 0.0630\n",
      "Epoch 13/15\n",
      "194/194 [==============================] - 0s 1ms/step - loss: 16558.2559 - accuracy: 0.0677\n",
      "Epoch 14/15\n",
      "194/194 [==============================] - 0s 1ms/step - loss: 15044.5771 - accuracy: 0.0618\n",
      "Epoch 15/15\n",
      "194/194 [==============================] - 0s 978us/step - loss: 8278.3818 - accuracy: 0.0647\n"
     ]
    },
    {
     "data": {
      "text/plain": [
       "<keras.callbacks.History at 0x2b21ba768e0>"
      ]
     },
     "execution_count": 72,
     "metadata": {},
     "output_type": "execute_result"
    }
   ],
   "source": [
    "# Fitting the model\n",
    "model.fit(df_train, train_target, epochs=15)"
   ]
  },
  {
   "cell_type": "code",
   "execution_count": 74,
   "id": "ca3d56e9-482b-4ba8-9d11-432c7abb9b16",
   "metadata": {},
   "outputs": [
    {
     "name": "stdout",
     "output_type": "stream",
     "text": [
      "49/49 [==============================] - 0s 942us/step - loss: 932.3639 - accuracy: 0.0647\n"
     ]
    }
   ],
   "source": [
    "test_loss, test_acc = model.evaluate(df_test,  test_target, verbose = True) "
   ]
  },
  {
   "cell_type": "code",
   "execution_count": null,
   "id": "e59533ff-3711-4817-9d6f-20c3de5e1085",
   "metadata": {},
   "outputs": [],
   "source": []
  }
 ],
 "metadata": {
  "kernelspec": {
   "display_name": "Python 3 (ipykernel)",
   "language": "python",
   "name": "python3"
  },
  "language_info": {
   "codemirror_mode": {
    "name": "ipython",
    "version": 3
   },
   "file_extension": ".py",
   "mimetype": "text/x-python",
   "name": "python",
   "nbconvert_exporter": "python",
   "pygments_lexer": "ipython3",
   "version": "3.9.13"
  }
 },
 "nbformat": 4,
 "nbformat_minor": 5
}
