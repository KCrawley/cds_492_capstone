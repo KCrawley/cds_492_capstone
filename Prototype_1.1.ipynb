{
 "cells": [
  {
   "cell_type": "markdown",
   "id": "d3c1b08e-5159-416d-91f3-31271b16e05d",
   "metadata": {},
   "source": [
    "# Project Prototype 1"
   ]
  },
  {
   "cell_type": "code",
   "execution_count": 1,
   "id": "52d62505-9611-49ab-a46e-369be841fbec",
   "metadata": {},
   "outputs": [],
   "source": [
    "# Package importing\n",
    "import numpy as np\n",
    "import pandas as pd\n",
    "from sklearn import preprocessing\n",
    "\n",
    "import tensorflow as tf"
   ]
  },
  {
   "cell_type": "markdown",
   "id": "3f5ef284-e61d-42ae-b7ba-95a25f86128d",
   "metadata": {},
   "source": [
    "In order to create a neural network using this data, first we have to do a bit more cleaning. The most obvious of which is to encode the categorical data present. In this case the columns that contain categorical data are Type, Category, Content Rating, Genres, and Android Ver. We also want to remove 3 columns from the dataset that are irrelevant to our model. The first is the App column, which only contains the names of the apps. The less obvious one to remove is the Current Ver column, which contains data regarding the current version of every app, which functionally acts as a second name for each app, since apps are likely to use different syntaxes when talking about their versions. Finally, Last Updated needs to be removed since TensorFlow cannot use datetime data."
   ]
  },
  {
   "cell_type": "code",
   "execution_count": 2,
   "id": "24da366c-f6ca-42e5-9f50-d56263d9c566",
   "metadata": {},
   "outputs": [
    {
     "data": {
      "text/html": [
       "<div>\n",
       "<style scoped>\n",
       "    .dataframe tbody tr th:only-of-type {\n",
       "        vertical-align: middle;\n",
       "    }\n",
       "\n",
       "    .dataframe tbody tr th {\n",
       "        vertical-align: top;\n",
       "    }\n",
       "\n",
       "    .dataframe thead th {\n",
       "        text-align: right;\n",
       "    }\n",
       "</style>\n",
       "<table border=\"1\" class=\"dataframe\">\n",
       "  <thead>\n",
       "    <tr style=\"text-align: right;\">\n",
       "      <th></th>\n",
       "      <th>Category</th>\n",
       "      <th>Rating</th>\n",
       "      <th>Reviews</th>\n",
       "      <th>Size</th>\n",
       "      <th>Installs</th>\n",
       "      <th>Type</th>\n",
       "      <th>Price</th>\n",
       "      <th>Content Rating</th>\n",
       "      <th>Genres</th>\n",
       "      <th>Android Ver</th>\n",
       "    </tr>\n",
       "  </thead>\n",
       "  <tbody>\n",
       "    <tr>\n",
       "      <th>0</th>\n",
       "      <td>0</td>\n",
       "      <td>4.1</td>\n",
       "      <td>159</td>\n",
       "      <td>19.0</td>\n",
       "      <td>10000</td>\n",
       "      <td>0</td>\n",
       "      <td>0.0</td>\n",
       "      <td>1</td>\n",
       "      <td>9</td>\n",
       "      <td>14</td>\n",
       "    </tr>\n",
       "    <tr>\n",
       "      <th>1</th>\n",
       "      <td>0</td>\n",
       "      <td>3.9</td>\n",
       "      <td>967</td>\n",
       "      <td>14.0</td>\n",
       "      <td>500000</td>\n",
       "      <td>0</td>\n",
       "      <td>0.0</td>\n",
       "      <td>1</td>\n",
       "      <td>11</td>\n",
       "      <td>14</td>\n",
       "    </tr>\n",
       "    <tr>\n",
       "      <th>2</th>\n",
       "      <td>0</td>\n",
       "      <td>4.7</td>\n",
       "      <td>87510</td>\n",
       "      <td>8.7</td>\n",
       "      <td>5000000</td>\n",
       "      <td>0</td>\n",
       "      <td>0.0</td>\n",
       "      <td>1</td>\n",
       "      <td>9</td>\n",
       "      <td>14</td>\n",
       "    </tr>\n",
       "    <tr>\n",
       "      <th>3</th>\n",
       "      <td>0</td>\n",
       "      <td>4.5</td>\n",
       "      <td>215644</td>\n",
       "      <td>25.0</td>\n",
       "      <td>50000000</td>\n",
       "      <td>0</td>\n",
       "      <td>0.0</td>\n",
       "      <td>4</td>\n",
       "      <td>9</td>\n",
       "      <td>17</td>\n",
       "    </tr>\n",
       "    <tr>\n",
       "      <th>4</th>\n",
       "      <td>0</td>\n",
       "      <td>4.3</td>\n",
       "      <td>967</td>\n",
       "      <td>2.8</td>\n",
       "      <td>100000</td>\n",
       "      <td>0</td>\n",
       "      <td>0.0</td>\n",
       "      <td>1</td>\n",
       "      <td>10</td>\n",
       "      <td>19</td>\n",
       "    </tr>\n",
       "    <tr>\n",
       "      <th>5</th>\n",
       "      <td>0</td>\n",
       "      <td>4.4</td>\n",
       "      <td>167</td>\n",
       "      <td>5.6</td>\n",
       "      <td>50000</td>\n",
       "      <td>0</td>\n",
       "      <td>0.0</td>\n",
       "      <td>1</td>\n",
       "      <td>9</td>\n",
       "      <td>7</td>\n",
       "    </tr>\n",
       "    <tr>\n",
       "      <th>6</th>\n",
       "      <td>0</td>\n",
       "      <td>3.8</td>\n",
       "      <td>178</td>\n",
       "      <td>19.0</td>\n",
       "      <td>50000</td>\n",
       "      <td>0</td>\n",
       "      <td>0.0</td>\n",
       "      <td>1</td>\n",
       "      <td>9</td>\n",
       "      <td>14</td>\n",
       "    </tr>\n",
       "    <tr>\n",
       "      <th>7</th>\n",
       "      <td>0</td>\n",
       "      <td>4.1</td>\n",
       "      <td>36815</td>\n",
       "      <td>29.0</td>\n",
       "      <td>1000000</td>\n",
       "      <td>0</td>\n",
       "      <td>0.0</td>\n",
       "      <td>1</td>\n",
       "      <td>9</td>\n",
       "      <td>17</td>\n",
       "    </tr>\n",
       "    <tr>\n",
       "      <th>8</th>\n",
       "      <td>0</td>\n",
       "      <td>4.4</td>\n",
       "      <td>13791</td>\n",
       "      <td>33.0</td>\n",
       "      <td>1000000</td>\n",
       "      <td>0</td>\n",
       "      <td>0.0</td>\n",
       "      <td>1</td>\n",
       "      <td>9</td>\n",
       "      <td>9</td>\n",
       "    </tr>\n",
       "    <tr>\n",
       "      <th>9</th>\n",
       "      <td>0</td>\n",
       "      <td>4.7</td>\n",
       "      <td>121</td>\n",
       "      <td>3.1</td>\n",
       "      <td>10000</td>\n",
       "      <td>0</td>\n",
       "      <td>0.0</td>\n",
       "      <td>1</td>\n",
       "      <td>10</td>\n",
       "      <td>14</td>\n",
       "    </tr>\n",
       "  </tbody>\n",
       "</table>\n",
       "</div>"
      ],
      "text/plain": [
       "   Category  Rating  Reviews  Size  Installs  Type  Price  Content Rating  \\\n",
       "0         0     4.1      159  19.0     10000     0    0.0               1   \n",
       "1         0     3.9      967  14.0    500000     0    0.0               1   \n",
       "2         0     4.7    87510   8.7   5000000     0    0.0               1   \n",
       "3         0     4.5   215644  25.0  50000000     0    0.0               4   \n",
       "4         0     4.3      967   2.8    100000     0    0.0               1   \n",
       "5         0     4.4      167   5.6     50000     0    0.0               1   \n",
       "6         0     3.8      178  19.0     50000     0    0.0               1   \n",
       "7         0     4.1    36815  29.0   1000000     0    0.0               1   \n",
       "8         0     4.4    13791  33.0   1000000     0    0.0               1   \n",
       "9         0     4.7      121   3.1     10000     0    0.0               1   \n",
       "\n",
       "   Genres  Android Ver  \n",
       "0       9           14  \n",
       "1      11           14  \n",
       "2       9           14  \n",
       "3       9           17  \n",
       "4      10           19  \n",
       "5       9            7  \n",
       "6       9           14  \n",
       "7       9           17  \n",
       "8       9            9  \n",
       "9      10           14  "
      ]
     },
     "execution_count": 2,
     "metadata": {},
     "output_type": "execute_result"
    }
   ],
   "source": [
    "# Preparing data\n",
    "df = pd.read_csv('googlePS_cleaned.csv')\n",
    "\n",
    "# Integer encoding categorical variables\n",
    "label = preprocessing.LabelEncoder()\n",
    "\n",
    "df['Type'] = label.fit_transform(df['Type'])\n",
    "df['Category'] = label.fit_transform(df['Category'])\n",
    "df['Content Rating'] = label.fit_transform(df['Content Rating'])\n",
    "df['Genres'] = label.fit_transform(df['Genres'])\n",
    "df['Android Ver'] = label.fit_transform(df['Android Ver'])\n",
    "\n",
    "# Removing irrelevant columns\n",
    "df = df.drop(columns = ['App', 'Current Ver', 'Last Updated'])\n",
    "\n",
    "df.head(10)"
   ]
  },
  {
   "cell_type": "markdown",
   "id": "d761b2ce-edd9-4129-82b6-096aedc3ce5b",
   "metadata": {},
   "source": [
    "### Neural Network"
   ]
  },
  {
   "cell_type": "code",
   "execution_count": 3,
   "id": "ca0490b0-37a3-4534-8186-53dd32962982",
   "metadata": {},
   "outputs": [],
   "source": [
    "# Making training and test data with 80:20 split\n",
    "seed = 562764589\n",
    "\n",
    "df_train = df.sample(frac = 0.8, replace = False, random_state = seed)\n",
    "train_target = df_train.pop('Rating')\n",
    "df_test = df.drop(df_train.index)\n",
    "test_target = df_test.pop('Rating')"
   ]
  },
  {
   "cell_type": "code",
   "execution_count": 11,
   "id": "5dcbca39-a6fa-4485-9192-c48f5532b987",
   "metadata": {},
   "outputs": [],
   "source": [
    "# Defining our model\n",
    "model = tf.keras.Sequential([\n",
    "    tf.keras.layers.Dense(9, input_dim = 9, activation = 'relu'),\n",
    "    tf.keras.layers.Dense(81, activation = 'relu'),\n",
    "    tf.keras.layers.Dense(81, activation = 'relu'),\n",
    "    tf.keras.layers.Dense(9, activation = 'softmax')\n",
    "])"
   ]
  },
  {
   "cell_type": "code",
   "execution_count": 12,
   "id": "0884cbfc-464a-44c6-96ed-105b163f3692",
   "metadata": {},
   "outputs": [],
   "source": [
    "# Compiling the model\n",
    "model.compile(optimizer='adam',\n",
    "              loss='sparse_categorical_crossentropy',\n",
    "              metrics=['accuracy'])"
   ]
  },
  {
   "cell_type": "code",
   "execution_count": 13,
   "id": "f8d27576-b019-4be4-89e3-f041a6d0e7e6",
   "metadata": {},
   "outputs": [
    {
     "name": "stdout",
     "output_type": "stream",
     "text": [
      "Epoch 1/15\n",
      "194/194 [==============================] - 0s 565us/step - loss: 73551.3750 - accuracy: 0.0707\n",
      "Epoch 2/15\n",
      "194/194 [==============================] - 0s 522us/step - loss: 40346.9023 - accuracy: 0.0724\n",
      "Epoch 3/15\n",
      "194/194 [==============================] - 0s 557us/step - loss: 18189.2832 - accuracy: 0.0745\n",
      "Epoch 4/15\n",
      "194/194 [==============================] - 0s 564us/step - loss: 9038.9902 - accuracy: 0.0735\n",
      "Epoch 5/15\n",
      "194/194 [==============================] - 0s 580us/step - loss: 7932.4204 - accuracy: 0.0702\n",
      "Epoch 6/15\n",
      "194/194 [==============================] - 0s 536us/step - loss: 62448.8867 - accuracy: 0.0754\n",
      "Epoch 7/15\n",
      "194/194 [==============================] - 0s 570us/step - loss: 14248.7822 - accuracy: 0.0647\n",
      "Epoch 8/15\n",
      "194/194 [==============================] - 0s 516us/step - loss: 18671.0020 - accuracy: 0.0654\n",
      "Epoch 9/15\n",
      "194/194 [==============================] - 0s 544us/step - loss: 8396.4385 - accuracy: 0.0643\n",
      "Epoch 10/15\n",
      "194/194 [==============================] - 0s 526us/step - loss: 10361.9121 - accuracy: 0.0654\n",
      "Epoch 11/15\n",
      "194/194 [==============================] - 0s 548us/step - loss: 7565.5459 - accuracy: 0.0654\n",
      "Epoch 12/15\n",
      "194/194 [==============================] - 0s 526us/step - loss: 18610.4785 - accuracy: 0.0630\n",
      "Epoch 13/15\n",
      "194/194 [==============================] - 0s 554us/step - loss: 27469.6074 - accuracy: 0.0664\n",
      "Epoch 14/15\n",
      "194/194 [==============================] - 0s 620us/step - loss: 13661.4746 - accuracy: 0.0688\n",
      "Epoch 15/15\n",
      "194/194 [==============================] - 0s 544us/step - loss: 12832.9287 - accuracy: 0.0660\n"
     ]
    },
    {
     "data": {
      "text/plain": [
       "<keras.callbacks.History at 0x17e19bf7ca0>"
      ]
     },
     "execution_count": 13,
     "metadata": {},
     "output_type": "execute_result"
    }
   ],
   "source": [
    "# Fitting the model\n",
    "model.fit(df_train, train_target, epochs=15)"
   ]
  },
  {
   "cell_type": "code",
   "execution_count": 7,
   "id": "ca3d56e9-482b-4ba8-9d11-432c7abb9b16",
   "metadata": {},
   "outputs": [
    {
     "name": "stdout",
     "output_type": "stream",
     "text": [
      "49/49 [==============================] - 0s 531us/step - loss: 20710.1055 - accuracy: 0.0706\n"
     ]
    }
   ],
   "source": [
    "test_loss, test_acc = model.evaluate(df_test,  test_target, verbose = True) "
   ]
  },
  {
   "cell_type": "markdown",
   "id": "d13a31bc-185b-4076-a1dd-9a130c38c555",
   "metadata": {},
   "source": [
    "We are currently using the Model.evaluate() method from TensorFlow. This method returns the accuracy and loss values of the model, with a larger loss value more indicative of a worse performance. We are evaluating the model with respect to the training dataset, which is 20% of the original dataset that wasn't used to train our model. Our initial prototype has an accuracy of 7.06% and a loss value of 20,000, which is extremely low for our model. This could indicate either that our machine learning model needs tweaking or that our target variable is too difficult to predict with the categories that we presently have. To test if the model itself has issues, we are going to attempt creating a regression model using the same data. "
   ]
  },
  {
   "cell_type": "markdown",
   "id": "880beaab-a0ed-485d-80d4-13a0af52caa8",
   "metadata": {},
   "source": [
    "### Regression Model"
   ]
  },
  {
   "cell_type": "code",
   "execution_count": 33,
   "id": "7987aff9-e33a-453a-aae4-d9a6561b60e9",
   "metadata": {},
   "outputs": [],
   "source": [
    "from sklearn import linear_model\n",
    "from sklearn import metrics\n",
    "import matplotlib.pyplot as plt"
   ]
  },
  {
   "cell_type": "markdown",
   "id": "2255074c-559f-4a88-917e-605402960a48",
   "metadata": {},
   "source": [
    "For our regression model we"
   ]
  },
  {
   "cell_type": "code",
   "execution_count": 74,
   "id": "51fbb255-554b-420b-aae4-951c92a1531c",
   "metadata": {},
   "outputs": [],
   "source": [
    "# Data preparation\n",
    "x = df_train[['Category','Reviews','Size','Installs','Type','Price','Content Rating','Genres','Android Ver']]\n",
    "y = train_target"
   ]
  },
  {
   "cell_type": "code",
   "execution_count": 26,
   "id": "f43ea311-10f8-4dec-8c64-d28478cb1afa",
   "metadata": {},
   "outputs": [
    {
     "data": {
      "text/plain": [
       "LinearRegression()"
      ]
     },
     "execution_count": 26,
     "metadata": {},
     "output_type": "execute_result"
    }
   ],
   "source": [
    "# Model creation\n",
    "reg_model = linear_model.LinearRegression()\n",
    "reg_model.fit(x, y)"
   ]
  },
  {
   "cell_type": "code",
   "execution_count": 72,
   "id": "1e8e1659-c514-4ae8-b523-0c850007e63a",
   "metadata": {},
   "outputs": [
    {
     "name": "stdout",
     "output_type": "stream",
     "text": [
      "Regression mean absolute erorr: 0.3767165620021108\n",
      "Regression mean squared error: 0.2653521169445043\n"
     ]
    }
   ],
   "source": [
    "# Model validation\n",
    "predictions = reg_model.predict(df_test)\n",
    "\n",
    "print('Regression mean absolute erorr:', metrics.mean_absolute_error(test_target, predictions))\n",
    "print('Regression mean squared error:', metrics.mean_squared_error(test_target, predictions))"
   ]
  },
  {
   "cell_type": "code",
   "execution_count": 87,
   "id": "1abef55b-7d2f-48c5-83c8-645d4c34cd9e",
   "metadata": {},
   "outputs": [
    {
     "name": "stdout",
     "output_type": "stream",
     "text": [
      "          0        1         2         3         4         5               6  \\\n",
      "0  Category  Reviews      Size  Installs      Type     Price  Content Rating   \n",
      "1  -0.00079      0.0  0.001201       0.0  0.133266 -0.001149        0.005102   \n",
      "\n",
      "          7            8  \n",
      "0    Genres  Android Ver  \n",
      "1 -0.000734     0.003912  \n"
     ]
    }
   ],
   "source": [
    "# Coefficient Table\n",
    "coefficients = reg_model.coef_\n",
    "columns = list(x.columns)\n",
    "\n",
    "coef_table = pd.DataFrame(data = [columns, coefficients])\n",
    "print(coef_table.head())"
   ]
  },
  {
   "cell_type": "markdown",
   "id": "9e436aed-14a4-477f-af59-151a63fe92bb",
   "metadata": {},
   "source": [
    "The coefficients of the linear model indicate how much each variable impacts the model's predictions. Using the above table, we can see that Reviews and Installs have no influence on the model's predictions, while the Type of the app has the most influence on the rating of the app. The other variables have extremly little effect on the prediction, so they likely don't add much to the model's performance."
   ]
  },
  {
   "cell_type": "code",
   "execution_count": 55,
   "id": "c4a198cc-2a46-468e-84cf-fb0173c4b5c1",
   "metadata": {},
   "outputs": [
    {
     "data": {
      "image/png": "[encoded data removed]",
      "text/plain": [
       "<Figure size 640x480 with 1 Axes>"
      ]
     },
     "metadata": {},
     "output_type": "display_data"
    },
    {
     "data": {
      "image/png": "[encoded data removed]",
      "text/plain": [
       "<Figure size 640x480 with 1 Axes>"
      ]
     },
     "metadata": {},
     "output_type": "display_data"
    },
    {
     "data": {
      "image/png": "[encoded data removed]",
      "text/plain": [
       "<Figure size 640x480 with 1 Axes>"
      ]
     },
     "metadata": {},
     "output_type": "display_data"
    }
   ],
   "source": [
    "# Plotting regression model\n",
    "a, b = np.polyfit(test_target, predictions, deg = 1)\n",
    "\n",
    "plt.scatter(test_target, predictions)\n",
    "plt.plot(test_target, a*test_target+b, color='red') # line of best fit\n",
    "plt.xlabel('Actual App Ratings')\n",
    "plt.ylabel('Predicted App Ratings')\n",
    "plt.title('Regression Model Predictions vs. Actual App Ratings')\n",
    "plt.show()\n",
    "\n",
    "plt.hist(test_target, bins = 15, weights=np.ones_like(test_target) / len(test_target))\n",
    "plt.xlabel('Actual App Ratings')\n",
    "plt.ylabel('Relative Frequency')\n",
    "plt.title('Relative Frequency of Actual App Ratings')\n",
    "plt.show()\n",
    "\n",
    "plt.hist(predictions, weights=np.ones_like(predictions) / len(predictions))\n",
    "plt.xlabel('Predicted App Ratings')\n",
    "plt.ylabel('Relative Frequency')\n",
    "plt.title('Relative Frequency of Predicted App Ratings')\n",
    "plt.show()"
   ]
  },
  {
   "cell_type": "markdown",
   "id": "9d6df350-4338-4c8a-a470-40e83fc5da97",
   "metadata": {},
   "source": [
    "We can see that with the linear regression model, the predicted values of the ratings most commonly fell around 4.2 for the ratings of the apps. Although this did lead to a mean squared error of about 26%, we can see that the model is likely just returning 4.2 as a safe default rather than due to data analysis. This can be seen in the two histograms of the predicted vs. actual app ratings, where the predicted ratings do not actually fall below a value of 3.8, and even predict app ratings above 5.0, which is the maximum possible value for apps on the Google Play Store. Because these predictions are so imbalanced, it wouldn't be a smart idea to use this model to predict the ratings of an app, especially since these predictions don't account for the lower possible ratings of apps, which is extremely important for our purposes. If the model itself was more accurate, then we would see a positive linear correlation between the apps in the above scatter plot, but instead we see a mostly flat line centered at 4.2 with our red line of best fit."
   ]
  },
  {
   "cell_type": "markdown",
   "id": "27a44999-a096-4d91-a671-5c0d5019f532",
   "metadata": {},
   "source": [
    "## Going Forward"
   ]
  },
  {
   "cell_type": "markdown",
   "id": "7ae51f23-5779-4364-8f67-7b2ca24ea55f",
   "metadata": {},
   "source": [
    "Currently, we are using the Model.evaluate() function in TensorFlow to evaluate our model performance. Using this, we can see that our model in not currently well equipped to deal with any sort of accurate prediction. This type of validation seems to be alright, but I thnk that changing the variable that is being predicted could yield better results. My current ideas for this involves incorporating the number of installs into the success of an app, with an equation along the lines of (Installs * Rating). This is because predicting if an app is highly rated might not matter much of the app doesn't receive many installs in the first place. Additionally, if the app has a high number of installs, then it might not matter if the app has poor reviews which could impact the performance of the app going forward."
   ]
  },
  {
   "cell_type": "markdown",
   "id": "9696760a-d37f-49ba-85bb-59551163e23b",
   "metadata": {},
   "source": [
    "I believe that the current version of the project is failing mostly with regards to the model itself. The sequential neural network I chose is likely not ideal for performing this type of prediction, especially since the linear model is much better at predicting app ratings. There is also likely a shortcoming with the dataset itself, which only contains summary data about the apps. While the current dataset can likely determing the average performance for apps within certain categories, more data is going to be required to predict what makes apps perform well. Going forward, I will likely switch to the dataset of user reviews instead, because I have an idea regarding using a neural network to identify common mentions of features or experiences that users mention in their reviews. The dataset includes sentiment analysis of the user reviews, so looking for common features in the positive and negative reviews will likely be able to create better predictions using aspects of the apps that isn't mentioned in the previous dataset."
   ]
  },
  {
   "cell_type": "markdown",
   "id": "a36665bc-01f4-4b68-b216-a4d5e8e4cd31",
   "metadata": {},
   "source": [
    "For displaying my results, I have the most familiarity with creating public websites with WordPress, but Google Sites could also be a valid way for me to create a presentation website."
   ]
  },
  {
   "cell_type": "code",
   "execution_count": null,
   "id": "98261c10-f020-4e4b-9fa4-69c994785125",
   "metadata": {},
   "outputs": [],
   "source": []
  }
 ],
 "metadata": {
  "kernelspec": {
   "display_name": "Python 3 (ipykernel)",
   "language": "python",
   "name": "python3"
  },
  "language_info": {
   "codemirror_mode": {
    "name": "ipython",
    "version": 3
   },
   "file_extension": ".py",
   "mimetype": "text/x-python",
   "name": "python",
   "nbconvert_exporter": "python",
   "pygments_lexer": "ipython3",
   "version": "3.9.13"
  }
 },
 "nbformat": 4,
 "nbformat_minor": 5
}
