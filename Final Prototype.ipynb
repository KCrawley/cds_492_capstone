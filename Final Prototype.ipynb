{
 "cells": [
  {
   "cell_type": "markdown",
   "id": "6f768f67-62e3-411b-b038-dd45ac9ce91f",
   "metadata": {},
   "source": [
    "# Predicting App Ratings"
   ]
  },
  {
   "cell_type": "code",
   "execution_count": 33,
   "id": "99007e77-ac7a-4b05-ad7b-6f236133381a",
   "metadata": {},
   "outputs": [],
   "source": [
    "# Package importing\n",
    "import numpy as np\n",
    "import pandas as pd\n",
    "from sklearn import preprocessing\n",
    "\n",
    "import tensorflow as tf\n",
    "from sklearn.feature_extraction.text import TfidfVectorizer\n",
    "from sklearn.model_selection import train_test_split"
   ]
  },
  {
   "cell_type": "markdown",
   "id": "72e016dc-aa73-4157-822e-09d2cbf6d866",
   "metadata": {
    "tags": []
   },
   "source": [
    "### Data preprocessing (Do not run if using google_reviews_summary.csv)"
   ]
  },
  {
   "cell_type": "code",
   "execution_count": 22,
   "id": "bb172aae-ef30-4e6e-ad50-ba9e25b33357",
   "metadata": {},
   "outputs": [],
   "source": [
    "# Reading in the cleaned datasets\n",
    "summary = pd.read_csv('googlePS_cleaned.csv')\n",
    "reviews = pd.read_csv('google_reviews_cleaned.csv')"
   ]
  },
  {
   "cell_type": "code",
   "execution_count": 23,
   "id": "300687bf-960a-4b9a-975d-24c777d2f8ff",
   "metadata": {
    "tags": []
   },
   "outputs": [],
   "source": [
    "# Integer encoding categorical variables\n",
    "label = preprocessing.LabelEncoder()\n",
    "\n",
    "summary['Type'] = label.fit_transform(summary['Type'])\n",
    "summary['Category'] = label.fit_transform(summary['Category'])\n",
    "summary['Content Rating'] = label.fit_transform(summary['Content Rating'])\n",
    "summary['Genres'] = label.fit_transform(summary['Genres'])\n",
    "summary['Android Ver'] = label.fit_transform(summary['Android Ver'])\n",
    "\n",
    "reviews['Sentiment'] = label.fit_transform(reviews['Sentiment'])\n",
    "\n",
    "# Mapping summary data to text review data\n",
    "\n",
    "## Creating new columns in review database\n",
    "reviews['Category'] = ''\n",
    "reviews['Size'] = ''\n",
    "reviews['Type'] = ''\n",
    "reviews['Price'] = ''\n",
    "reviews['Content Rating'] = ''\n",
    "reviews['Genres'] = ''\n",
    "reviews['Android Ver'] = ''\n",
    "\n",
    "for row in reviews.index:\n",
    "    appInfo = [None] * 8    # Empty list to hold app information, will hold 8 values max\n",
    "    a = reviews.loc[row, 'App']    # Gets the name of the app from the review dataset\n",
    "    \n",
    "    if appInfo[0] == a:    # Checks to see if we already have the rating for the current app\n",
    "        # Adds relevant information to respective column\n",
    "        reviews.loc[row, 'Category'] = appRating[1]\n",
    "        reviews.loc[row, 'Size'] = appInfo[2]\n",
    "        reviews.loc[row, 'Type'] = appInfo[3]\n",
    "        reviews.loc[row, 'Price'] = appInfo[4]\n",
    "        reviews.loc[row, 'Content Rating'] = appInfo[5]\n",
    "        reviews.loc[row, 'Genres'] = appInfo[6]\n",
    "        reviews.loc[row, 'Android Ver'] = appInfo[7]\n",
    "    \n",
    "    elif summary['App'].eq(a).any():    # Checks to see if the app name is present in the original dataframe\n",
    "        index = summary[summary['App'] == a].index.values[0]    # Gets the index of the app name\n",
    "        \n",
    "        # Saves all relevant information for future and adds information to respective column\n",
    "        \n",
    "        appInfo[0] = row\n",
    "        \n",
    "        appInfo[1] = summary.loc[index, 'Category']\n",
    "        reviews.loc[row, 'Category'] = appInfo[1]\n",
    "        \n",
    "        appInfo[2] = summary.loc[index, 'Size']\n",
    "        reviews.loc[row, 'Size'] = appInfo[2]\n",
    "        \n",
    "        appInfo[3] = summary.loc[index, 'Type']\n",
    "        reviews.loc[row, 'Type'] = appInfo[3]\n",
    "        \n",
    "        appInfo[4] = summary.loc[index, 'Price']\n",
    "        reviews.loc[row, 'Price'] = appInfo[4]\n",
    "        \n",
    "        appInfo[5] = summary.loc[index, 'Content Rating']\n",
    "        reviews.loc[row, 'Content Rating'] = appInfo[5]\n",
    "        \n",
    "        appInfo[6] = summary.loc[index, 'Genres']\n",
    "        reviews.loc[row, 'Genres'] = appInfo[6]\n",
    "        \n",
    "        appInfo[7] = summary.loc[index, 'Android Ver']\n",
    "        reviews.loc[row, 'Android Ver'] = appInfo[7]\n",
    "        \n",
    "    else:\n",
    "        reviews.loc[row, 'Category'] = None    # Sets category value to null if app cannot be found. df.dropna will remove all rows with a single null value\n",
    "        \n",
    "reviews = reviews.dropna()    # Removes reviews if no valid app score was found"
   ]
  },
  {
   "cell_type": "code",
   "execution_count": 24,
   "id": "165a7397-5f5f-4306-88e9-6a0711acae42",
   "metadata": {},
   "outputs": [],
   "source": [
    "# Removing irrelevant columns\n",
    "reviews = reviews.drop(columns = ['App', 'Translated_Review'])"
   ]
  },
  {
   "cell_type": "code",
   "execution_count": 25,
   "id": "ea523545-18cf-4008-84bc-83167e1409fb",
   "metadata": {},
   "outputs": [],
   "source": [
    "# Saving the newly cleaned data\n",
    "reviews.to_csv('google_reviews_summary.csv', index=False)"
   ]
  },
  {
   "cell_type": "markdown",
   "id": "9b8e1f4d-8790-4260-a1bd-a7bc0e01b8a8",
   "metadata": {},
   "source": [
    "### Model Creation"
   ]
  },
  {
   "cell_type": "code",
   "execution_count": 70,
   "id": "c453c645-8906-4b76-9592-4b0b619488d9",
   "metadata": {},
   "outputs": [
    {
     "name": "stdout",
     "output_type": "stream",
     "text": [
      "<class 'pandas.core.frame.DataFrame'>\n",
      "RangeIndex: 24041 entries, 0 to 24040\n",
      "Data columns (total 12 columns):\n",
      " #   Column                  Non-Null Count  Dtype  \n",
      "---  ------                  --------------  -----  \n",
      " 0   Sentiment               24041 non-null  int64  \n",
      " 1   Sentiment_Polarity      24041 non-null  float64\n",
      " 2   Sentiment_Subjectivity  24041 non-null  float64\n",
      " 3   Rating                  24041 non-null  float64\n",
      " 4   Review                  24041 non-null  object \n",
      " 5   Category                24041 non-null  int64  \n",
      " 6   Size                    24041 non-null  float64\n",
      " 7   Type                    24041 non-null  int64  \n",
      " 8   Price                   24041 non-null  float64\n",
      " 9   Content Rating          24041 non-null  int64  \n",
      " 10  Genres                  24041 non-null  int64  \n",
      " 11  Android Ver             24041 non-null  int64  \n",
      "dtypes: float64(5), int64(6), object(1)\n",
      "memory usage: 2.2+ MB\n"
     ]
    }
   ],
   "source": [
    "# Load in cleaned data\n",
    "df = pd.read_csv('google_reviews_summary.csv')\n",
    "\n",
    "# Should display 11 columns with 24,041 entries\n",
    "df.info()"
   ]
  },
  {
   "cell_type": "code",
   "execution_count": 71,
   "id": "8d31364b-cd4e-4a2b-b456-b8dd2f8fb503",
   "metadata": {},
   "outputs": [
    {
     "name": "stdout",
     "output_type": "stream",
     "text": [
      "(24041, 15579)\n"
     ]
    }
   ],
   "source": [
    "# Vectorizing Reviews\n",
    "vectorizer = TfidfVectorizer()\n",
    "\n",
    "vector_r = vectorizer.fit_transform(reviews['Review'].values.astype('str'))\n",
    "\n",
    "print(vector_r.shape)"
   ]
  },
  {
   "cell_type": "code",
   "execution_count": 72,
   "id": "4968531c-31dd-4d0e-9d61-069e2f9e547f",
   "metadata": {},
   "outputs": [],
   "source": [
    "# Dropping text reviews from model\n",
    "df = df.drop(columns = ['Review'])"
   ]
  },
  {
   "cell_type": "code",
   "execution_count": 73,
   "id": "f7ea69b4-2bf0-41a4-9b1a-b9c5749a57e7",
   "metadata": {},
   "outputs": [],
   "source": [
    "# Converting int columns to floats for model\n",
    "df['Sentiment'] = df['Sentiment'].astype(float)\n",
    "df['Category'] = df['Category'].astype(float)\n",
    "df['Type'] = df['Type'].astype(float)\n",
    "df['Content Rating'] = df['Content Rating'].astype(float)\n",
    "df['Genres'] = df['Genres'].astype(float)\n",
    "df['Android Ver'] = df['Android Ver'].astype(float)"
   ]
  },
  {
   "cell_type": "code",
   "execution_count": 74,
   "id": "7ff580ff-108d-4632-ac57-eca91bc667bc",
   "metadata": {},
   "outputs": [],
   "source": [
    "# Making training and test data with 80:20 split\n",
    "seed = 684093\n",
    "\n",
    "y = df.pop('Rating')\n",
    "x = df\n",
    "\n",
    "x_train, x_test, y_train, y_test = train_test_split(x, y, test_size = 0.2, random_state = seed)"
   ]
  },
  {
   "cell_type": "code",
   "execution_count": 78,
   "id": "2026ae40-a1fb-4f90-b6e8-9f6cd63975b9",
   "metadata": {},
   "outputs": [],
   "source": [
    "# Defining our model\n",
    "model = tf.keras.Sequential([\n",
    "    # Input Layer\n",
    "    tf.keras.layers.Dense(10, input_dim = 10, activation = 'relu'),\n",
    "    \n",
    "    # Hidden Layers\n",
    "    tf.keras.layers.Dense(400, activation = 'relu'),\n",
    "    tf.keras.layers.Dense(400, activation = 'relu'),\n",
    "    tf.keras.layers.Dense(400, activation = 'relu'),\n",
    "    \n",
    "    # Output Layer\n",
    "    tf.keras.layers.Dense(1, activation = 'linear')\n",
    "])\n",
    "\n",
    "# Compiling the model\n",
    "## Stochastic gradient descent optimizer\n",
    "opt = tf.keras.optimizers.SGD(learning_rate=0.01, momentum=0.9)\n",
    "model.compile(optimizer=opt,\n",
    "              loss='mean_squared_error',    # Predicting a float value, need to use mean squared error\n",
    "              metrics=['accuracy'])"
   ]
  },
  {
   "cell_type": "code",
   "execution_count": 80,
   "id": "e52a5b1b-28cb-47ca-95e7-36e875f3a633",
   "metadata": {},
   "outputs": [
    {
     "name": "stdout",
     "output_type": "stream",
     "text": [
      "Epoch 1/15\n",
      "601/601 [==============================] - 1s 2ms/step - loss: nan - accuracy: 0.0000e+00\n",
      "Epoch 2/15\n",
      "601/601 [==============================] - 1s 2ms/step - loss: nan - accuracy: 0.0000e+00\n",
      "Epoch 3/15\n",
      "601/601 [==============================] - 1s 1ms/step - loss: nan - accuracy: 0.0000e+00\n",
      "Epoch 4/15\n",
      "601/601 [==============================] - 1s 2ms/step - loss: nan - accuracy: 0.0000e+00\n",
      "Epoch 5/15\n",
      "601/601 [==============================] - 1s 1ms/step - loss: nan - accuracy: 0.0000e+00\n",
      "Epoch 6/15\n",
      "601/601 [==============================] - 1s 1ms/step - loss: nan - accuracy: 0.0000e+00\n",
      "Epoch 7/15\n",
      "601/601 [==============================] - 1s 1ms/step - loss: nan - accuracy: 0.0000e+00\n",
      "Epoch 8/15\n",
      "601/601 [==============================] - 1s 1ms/step - loss: nan - accuracy: 0.0000e+00\n",
      "Epoch 9/15\n",
      "601/601 [==============================] - 1s 1ms/step - loss: nan - accuracy: 0.0000e+00\n",
      "Epoch 10/15\n",
      "601/601 [==============================] - 1s 2ms/step - loss: nan - accuracy: 0.0000e+00\n",
      "Epoch 11/15\n",
      "601/601 [==============================] - 1s 2ms/step - loss: nan - accuracy: 0.0000e+00\n",
      "Epoch 12/15\n",
      "601/601 [==============================] - 1s 1ms/step - loss: nan - accuracy: 0.0000e+00\n",
      "Epoch 13/15\n",
      "601/601 [==============================] - 1s 1ms/step - loss: nan - accuracy: 0.0000e+00\n",
      "Epoch 14/15\n",
      "601/601 [==============================] - 1s 2ms/step - loss: nan - accuracy: 0.0000e+00\n",
      "Epoch 15/15\n",
      "601/601 [==============================] - 1s 1ms/step - loss: nan - accuracy: 0.0000e+00\n"
     ]
    },
    {
     "data": {
      "text/plain": [
       "<keras.callbacks.History at 0x20381480040>"
      ]
     },
     "execution_count": 80,
     "metadata": {},
     "output_type": "execute_result"
    }
   ],
   "source": [
    "# Fitting the model\n",
    "model.fit(x_train, y_train, epochs=15)"
   ]
  },
  {
   "cell_type": "code",
   "execution_count": null,
   "id": "b1ddcc5c-23ca-4f79-9f8a-35f22a5b3bce",
   "metadata": {},
   "outputs": [],
   "source": []
  }
 ],
 "metadata": {
  "kernelspec": {
   "display_name": "Python 3 (ipykernel)",
   "language": "python",
   "name": "python3"
  },
  "language_info": {
   "codemirror_mode": {
    "name": "ipython",
    "version": 3
   },
   "file_extension": ".py",
   "mimetype": "text/x-python",
   "name": "python",
   "nbconvert_exporter": "python",
   "pygments_lexer": "ipython3",
   "version": "3.9.13"
  }
 },
 "nbformat": 4,
 "nbformat_minor": 5
}
